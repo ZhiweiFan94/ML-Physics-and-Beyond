{
 "cells": [
  {
   "cell_type": "markdown",
   "metadata": {},
   "source": [
    "# MergeSort problem:\n",
    "Given a array with random numbers, sort them. Using merge sort algorithm, the time complexity can be effectively reduced to O(nlogn). For example, given an array [9, 2, 3, 5, 1, -1, 0, 99], the sorted array from minimal to maximal should be returned."
   ]
  },
  {
   "cell_type": "code",
   "execution_count": 2,
   "metadata": {},
   "outputs": [
    {
     "name": "stdout",
     "output_type": "stream",
     "text": [
      "[-1, 0, 1, 2, 3, 5, 9, 99]\n"
     ]
    }
   ],
   "source": [
    "def merge_sort(arr):\n",
    "    if len(arr) > 1:\n",
    "        #split the whole array into two sub-branches\n",
    "        split_idx = len(arr) // 2\n",
    "        left_tree = arr[:split_idx]\n",
    "        right_tree = arr[split_idx:]\n",
    "        #recursive split the array until one element is found\n",
    "        merge_sort(left_tree)\n",
    "        merge_sort(right_tree)\n",
    "        #i,j,k are the indices of the elements in each array\n",
    "        i, j, k = 0, 0, 0\n",
    "        while i < len(left_tree) and j < len(right_tree):\n",
    "            if left_tree[i] < right_tree[j]:\n",
    "                arr[k] = left_tree[i]\n",
    "                i += 1\n",
    "            else:\n",
    "                arr[k] = right_tree[j]\n",
    "                j += 1\n",
    "            k += 1\n",
    "        #the leftover should be appended to the array\n",
    "        while i < len(left_tree):\n",
    "            arr[k] = left_tree[i]\n",
    "            i += 1\n",
    "            k += 1\n",
    "        while j < len(right_tree):\n",
    "            arr[k] = right_tree[j]\n",
    "            j += 1\n",
    "            k += 1\n",
    "    \n",
    "    return arr\n",
    "\n",
    "arr = [9, 2, 3, 5, 1, -1, 0, 99]\n",
    "print(merge_sort(arr))"
   ]
  },
  {
   "cell_type": "markdown",
   "metadata": {},
   "source": [
    "## Comments:\n",
    "To better explain the divide and conquer process, here I attached two pictures (one is from my bad handwritting, APOLOGIES!)\n",
    "\n"
   ]
  },
  {
   "cell_type": "markdown",
   "metadata": {},
   "source": [
    "# Inverse Count problem\n",
    "The inverse count problem can be solved in complexity O(nlogn) compared to normal brute-force in O(n^2).\n",
    "Count of smaller elements on right side of each element in an Array using Merge sort."
   ]
  },
  {
   "cell_type": "code",
   "execution_count": null,
   "metadata": {},
   "outputs": [],
   "source": []
  }
 ],
 "metadata": {
  "kernelspec": {
   "display_name": "dl_mac",
   "language": "python",
   "name": "python3"
  },
  "language_info": {
   "codemirror_mode": {
    "name": "ipython",
    "version": 3
   },
   "file_extension": ".py",
   "mimetype": "text/x-python",
   "name": "python",
   "nbconvert_exporter": "python",
   "pygments_lexer": "ipython3",
   "version": "3.10.12"
  },
  "orig_nbformat": 4
 },
 "nbformat": 4,
 "nbformat_minor": 2
}
