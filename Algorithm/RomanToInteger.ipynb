{
 "cells": [
  {
   "cell_type": "markdown",
   "metadata": {},
   "source": [
    "# Roman to Integer\n",
    "Roman numerals are represented by seven different symbols: I, V, X, L, C, D and M.\n",
    "\n",
    "--- \n",
    "Symbol       Value\n",
    "I             1\n",
    "V             5\n",
    "X             10\n",
    "L             50\n",
    "C             100\n",
    "D             500\n",
    "M             1000\n",
    "\n",
    "---\n",
    "\n",
    "For example, 2 is written as II in Roman numeral, just two ones added together. 12 is written as XII, which is simply X + II. The number 27 is written as XXVII, which is XX + V + II.\n",
    "\n",
    "Roman numerals are usually written largest to smallest from left to right. However, the numeral for four is not IIII. Instead, the number four is written as IV. Because the one is before the five we subtract it making four. The same principle applies to the number nine, which is written as IX. There are six instances where subtraction is used:\n",
    "\n",
    "I can be placed before V (5) and X (10) to make 4 and 9. \n",
    "X can be placed before L (50) and C (100) to make 40 and 90. \n",
    "C can be placed before D (500) and M (1000) to make 400 and 900.\n",
    "Given a roman numeral, convert it to an integer."
   ]
  },
  {
   "cell_type": "markdown",
   "metadata": {},
   "source": []
  },
  {
   "cell_type": "code",
   "execution_count": 37,
   "metadata": {},
   "outputs": [
    {
     "data": {
      "text/plain": [
       "1994"
      ]
     },
     "execution_count": 37,
     "metadata": {},
     "output_type": "execute_result"
    }
   ],
   "source": [
    "def romanToInt(s: str) -> int:\n",
    "\n",
    "    special_key = {'IV':4 ,'IX':9, 'XL':40, 'XC':90, 'CD':400, 'CM':900}\n",
    "    usual_key = {'I':1, 'V':5, 'X':10, 'L':50, 'C':100, 'D':500, 'M':1000}\n",
    "    # ss=[]\n",
    "    # for i in list(special_key.keys()):\n",
    "    #     if i in s:\n",
    "    #         ss.append(i)\n",
    "    #         s = s.replace(i,'')\n",
    "    # value=0\n",
    "    # #value for usual character\n",
    "    # for i in s:\n",
    "    #     value = value + usual_key[i]\n",
    "    # #value for special characters\n",
    "    # for i in ss:\n",
    "    #     value = value +special_key[i]\n",
    "    # return value\n",
    "\n",
    "    # a more efficient way will combine double loops into single one\n",
    "    value = 0\n",
    "    i = 0\n",
    "    while i < len(s):\n",
    "        # If a pair of characters forms a special numeral\n",
    "        if i < len(s) - 1 and s[i:i+2] in special_key:\n",
    "            value += special_key[s[i:i+2]]\n",
    "            i += 2\n",
    "        else:\n",
    "            value += usual_key[s[i]]\n",
    "            i += 1\n",
    "    return value\n",
    "\n",
    "s=\"MCMXCIV\"\n",
    "romanToInt(s)\n"
   ]
  },
  {
   "cell_type": "code",
   "execution_count": 72,
   "metadata": {},
   "outputs": [
    {
     "data": {
      "text/plain": [
       "'oopppoo'"
      ]
     },
     "execution_count": 72,
     "metadata": {},
     "output_type": "execute_result"
    }
   ],
   "source": [
    "#seek the longest palindrome in a string\n",
    "def longestPalindrome(s: str) -> str:\n",
    "    max_length = 0\n",
    "    max_string = ''\n",
    "\n",
    "    for i in range(len(s)):\n",
    "        for j in range(i, len(s)):\n",
    "            string_slice = s[i:j+1]\n",
    "            palindrome_slice = string_slice[::-1]\n",
    "            if string_slice == palindrome_slice and len(string_slice) > max_length:\n",
    "                max_length = len(string_slice)\n",
    "                max_string = string_slice\n",
    "    \n",
    "    return max_string\n",
    "\n",
    "s = 'oopppoossnd'\n",
    "longestPalindrome(s)\n"
   ]
  },
  {
   "cell_type": "code",
   "execution_count": null,
   "metadata": {},
   "outputs": [],
   "source": []
  }
 ],
 "metadata": {
  "kernelspec": {
   "display_name": "dl_mac",
   "language": "python",
   "name": "python3"
  },
  "language_info": {
   "codemirror_mode": {
    "name": "ipython",
    "version": 3
   },
   "file_extension": ".py",
   "mimetype": "text/x-python",
   "name": "python",
   "nbconvert_exporter": "python",
   "pygments_lexer": "ipython3",
   "version": "3.10.12"
  },
  "orig_nbformat": 4
 },
 "nbformat": 4,
 "nbformat_minor": 2
}
