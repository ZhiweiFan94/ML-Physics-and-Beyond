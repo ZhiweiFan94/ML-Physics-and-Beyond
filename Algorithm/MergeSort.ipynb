{
 "cells": [
  {
   "cell_type": "markdown",
   "metadata": {},
   "source": [
    "# MergeSort problem:\n",
    "Given an array with random numbers, sort them. Using merge sort algorithm, the time complexity can be effectively reduced to O(nlogn). For example, the sorted array [-1, 0, 1, 2, 3, 5, 9, 99] should be returned if we input [9, 2, 3, 5, 1, -1, 0, 99]."
   ]
  },
  {
   "cell_type": "code",
   "execution_count": 30,
   "metadata": {},
   "outputs": [
    {
     "name": "stdout",
     "output_type": "stream",
     "text": [
      "[-1, 0, 1, 2, 3, 5, 9, 99]\n"
     ]
    }
   ],
   "source": [
    "def merge_sort(arr):\n",
    "    # stop the recursion when divided into single element\n",
    "    if len(arr) <= 1:\n",
    "        return arr\n",
    "    #split the whole array into two sub-branches\n",
    "    split_idx = len(arr) // 2\n",
    "    left_tree = arr[:split_idx]\n",
    "    right_tree = arr[split_idx:]\n",
    "    #recursive split the array until one element is found\n",
    "    merge_sort(left_tree)\n",
    "    merge_sort(right_tree)\n",
    "    #i,j,k are the indices of the elements in each array\n",
    "    i, j, k = 0, 0, 0\n",
    "    while i < len(left_tree) and j < len(right_tree):\n",
    "        if left_tree[i] < right_tree[j]:\n",
    "            arr[k] = left_tree[i]\n",
    "            i += 1\n",
    "        else:\n",
    "            arr[k] = right_tree[j]\n",
    "            j += 1\n",
    "        k += 1\n",
    "    #the leftover should be appended to the array\n",
    "    while i < len(left_tree):\n",
    "        arr[k] = left_tree[i]\n",
    "        i += 1\n",
    "        k += 1\n",
    "    while j < len(right_tree):\n",
    "        arr[k] = right_tree[j]\n",
    "        j += 1\n",
    "        k += 1\n",
    "\n",
    "    return arr\n",
    "\n",
    "arr = [9, 2, 3, 5, 1, -1, 0, 99]\n",
    "print(merge_sort(arr))"
   ]
  },
  {
   "cell_type": "markdown",
   "metadata": {},
   "source": [
    "## Comments:\n",
    "To better explain the divide and conquer process, here I attached two pictures (pls bear with my doggy handwritting, xd)\n",
    "<!-- ![p1](./pictures/mergesortp2.png) -->\n",
    "<img src=\"./pictures/mergesortp2.png\" alt=\"p2\" width=\"600\" height=\"500\"/>\n",
    "<img src=\"./pictures/mergesortp1.png\" alt=\"p1\" width=\"700\" height=\"500\"/>\n"
   ]
  },
  {
   "cell_type": "markdown",
   "metadata": {},
   "source": [
    "# Inverse Count problem\n",
    "The inverse count problem can be solved in complexity O(nlogn) compared to normal brute-force in O(n^2).\n",
    "Count of smaller elements on right side of each element in an Array using Merge sort.\n",
    "\n",
    "For example: 具体来说，如果我们有一个序列 S，那么两个元素 S[i] 和 S[j] 形成一个逆序，如果满足以下两个条件：\n",
    "i < j\n",
    "S[i] > S[j]\n",
    "例如，在序列 [3, 1, 2, 6, 5, 4] 中，存在五个这样的逆序：(3, 1), (3, 2), (6, 5), (6, 4), (5, 4)。\n",
    "\n",
    "逆序问题的重要性：\n",
    "逆序的数量是衡量序列“有序程度”的一个指标。在某些应用中，它可以用来衡量列表或数组需要多少交换才能完全排序。这在计算复杂性、数据分析、计算机图形学等领域都有应用。\n"
   ]
  },
  {
   "cell_type": "code",
   "execution_count": 42,
   "metadata": {},
   "outputs": [
    {
     "name": "stdout",
     "output_type": "stream",
     "text": [
      "(5, [(3, 1), (3, 2), (6, 5), (6, 4), (5, 4)])\n"
     ]
    }
   ],
   "source": [
    "#brute-force method:\n",
    "def brute_force(arr):\n",
    "    count = 0\n",
    "    record_revert_nums = []\n",
    "    for i in range(len(arr)):\n",
    "        for j in range(i+1, len(arr)):\n",
    "            if arr[i] > arr[j]:\n",
    "                count += 1\n",
    "                record_revert_nums.append((arr[i], arr[j]))\n",
    "\n",
    "    return count, record_revert_nums\n",
    "\n",
    "arr = [3, 1, 2, 6, 5, 4]\n",
    "print(brute_force(arr))"
   ]
  },
  {
   "cell_type": "markdown",
   "metadata": {},
   "source": [
    "Notice, the brute-force algorithm has two loops, leading to O(n^2). To reduce the time complexity for huge input, we now introduce the merge-sort algorithm below. The idea is similar: taking the example from the handwritting above and we slightly change the array to [9, 2, 5, 3]. Now, they have inverses of (9, 2/3/5) and (5, 3). When it splits to the minimal elements, the first comparision during the recursive are the pairs (9, 2) and (5, 3), so the reverse count returns 2. Then, one layer above, the trees will be sorted pairs [2, 9] and [3, 5]. The 'while' loop compares: 2 vs. 3 (good, i+1=1, j=0); 9 vs. 3 (reversed, i=1, j+1=1, reverse_count+1); 9 vs. 5 (reversed, i=1, j+1=2, reverse_count+1)."
   ]
  },
  {
   "cell_type": "code",
   "execution_count": 37,
   "metadata": {},
   "outputs": [
    {
     "data": {
      "text/plain": [
       "([1, 2, 3, 4, 5, 6], 5, [(3, 1), (3, 2), (5, 4), (6, 4), (6, 5)])"
      ]
     },
     "execution_count": 37,
     "metadata": {},
     "output_type": "execute_result"
    }
   ],
   "source": [
    "#merge-sort algorithm:\n",
    "def merge_sort_revert(arr):\n",
    "    # No inversions in a single-element array\n",
    "    if len(arr) <= 1:\n",
    "        return arr, 0, []\n",
    "    #split the whole array into two sub-branches\n",
    "    split_idx = len(arr) // 2\n",
    "    left_tree = arr[:split_idx]\n",
    "    right_tree = arr[split_idx:]\n",
    "    #recursive split the array until one element is found\n",
    "    left_tree, left_inversions, left_records = merge_sort_revert(left_tree)\n",
    "    right_tree, right_inversions, right_records = merge_sort_revert(right_tree)\n",
    "    inversions = left_inversions + right_inversions\n",
    "\n",
    "    # Combine the inversion records from the left and right\n",
    "    record_inversion_nums = []\n",
    "    record_inversion_nums.extend(left_records)\n",
    "    record_inversion_nums.extend(right_records)\n",
    "\n",
    "    #i,j,k are the indices of the elements in each array\n",
    "    i, j, k = 0, 0, 0\n",
    "    while i < len(left_tree) and j < len(right_tree):\n",
    "        if left_tree[i] < right_tree[j]:\n",
    "            arr[k] = left_tree[i]\n",
    "            i += 1\n",
    "        else:\n",
    "            arr[k] = right_tree[j]\n",
    "            #all the numbers remained in the left-tree will be larger than the right half, leading to inversions\n",
    "            inversions += (len(left_tree) - i)\n",
    "            #to record the inverted numbers\n",
    "            for index in range(i, len(left_tree)):\n",
    "                record_inversion_nums.append((left_tree[index], right_tree[j]))\n",
    "            j += 1\n",
    "        k += 1\n",
    "    #the leftover should be appended to the array\n",
    "    while i < len(left_tree):\n",
    "        arr[k] = left_tree[i]\n",
    "        i += 1\n",
    "        k += 1\n",
    "    while j < len(right_tree):\n",
    "        arr[k] = right_tree[j]\n",
    "        j += 1\n",
    "        k += 1\n",
    "\n",
    "    return arr, inversions, record_inversion_nums\n",
    "\n",
    "arr = [3, 1, 2, 6, 5, 4]\n",
    "merge_sort_revert(arr)"
   ]
  },
  {
   "cell_type": "markdown",
   "metadata": {},
   "source": [
    "Comment:\n",
    "In the context of this recursive function, record_inversion_nums is re-initialized to an empty list [] at the beginning of each function call (i.e., each recursion level). This is because each function call is dealing with a different subsection of the original array, and we start with a \"clean slate\" for recording inversions specific to that subsection.\n",
    "\n",
    "However, the inversions recorded in deeper levels of recursion (i.e., in the recursive calls that sort the left and right halves of the current subsection) are not lost. These are returned by the recursive calls as left_records and right_records."
   ]
  },
  {
   "cell_type": "markdown",
   "metadata": {},
   "source": [
    "# Cloest Pair problem\n",
    "The \"closest pair problem\" is a common challenge in computer science and geometry, often utilized in fields like computational geometry. The problem involves finding the two closest points among a set of given points in a plane based on Euclidean distance.\n",
    "\n",
    "## Overview\n",
    "Input: You are given a set 'P' containing 'n' points, P = {p1, p2, ..., pn}, each with coordinates in a two-dimensional space.\n",
    "\n",
    "Objective: Find the pair of points (pi, pj) that have the smallest Euclidean distance among all possible pairs of points. The Euclidean distance between two points (x1, y1) and (x2, y2) is calculated as sqrt((x1 - x2)² + (y1 - y2)²).\n",
    "\n",
    "Solving this problem in a brute-force manner would require calculating the distance between every pair of points and then finding the minimum, leading to an O(n^2) complexity. However, there's a more efficient approach using a technique similar to MergeSort, bringing down the complexity to O(n (log n)^2) or even O(n log n) with more sophisticated implementations. Below is a simplified explanation of how it's done. Following the above habit, I will use the brute-force first and then optimise it."
   ]
  },
  {
   "cell_type": "code",
   "execution_count": 7,
   "metadata": {},
   "outputs": [
    {
     "data": {
      "text/plain": [
       "(0.5, [(10, 17), (10.5, 17)])"
      ]
     },
     "execution_count": 7,
     "metadata": {},
     "output_type": "execute_result"
    }
   ],
   "source": [
    "#brute-force algorithm\n",
    "import math\n",
    "def brute_force_cloest(points):\n",
    "    min_distance = math.inf\n",
    "    for i in range(len(points)):\n",
    "        for j in range(i+1, len(points)):\n",
    "            distance = math.sqrt((points[i][0]-points[j][0])**2+(points[i][1]-points[j][1])**2)\n",
    "            if  distance < min_distance:\n",
    "                min_distance = distance\n",
    "                closest_pair = ([points[i], points[j]])\n",
    "    return min_distance, closest_pair\n",
    "            \n",
    "\n",
    "points = [(1,3), (10,17), (1,4), (18,24), (10.5,17)]\n",
    "brute_force_cloest(points)"
   ]
  },
  {
   "cell_type": "markdown",
   "metadata": {},
   "source": [
    "The brute-force method always be intuitive and straightforward. I keep practicing this for getting myself familar with the coding and it usually enhances our confidence when starting from an easy approach. Next, let's discuss the merge-sort method:\n",
    "\n",
    "算法步骤：\n",
    "\n",
    "- 排序：将所有点按照x坐标排序。如果x坐标相同，则考虑y坐标。\n",
    "\n",
    "分治：\n",
    "\n",
    "- 将排序后的点集分成两半。\n",
    "- 递归地在两个子集中找到最近的点对。这将给我们左侧的最近点对和右侧的最近点对以及他们之间的距离：d1 和 d2。\n",
    "- 计算 d1 和 d2 中的最小距离，设为 d。\n",
    "\n",
    "找出中间区域的点对：\n",
    "- 在两个子集之间建立一条垂直线，线的x坐标是中间点的x坐标。这条线将点集分成两半。\n",
    "- 考虑垂直线两侧距离为 d 的区域，我们只需要在这个区域中找最近的点对。如果这个区域内的点对距离小于 d，则更新 d。\n",
    "- 结果：上述过程会得到整个集合中最近的点对。\n",
    "\n",
    "- NOTICE: the approach to tackle the crossing region between left and right sides takes the conclusion: if sorted in x coordinate, points within two delta range in x (i.e x \\pm delta) and one delta range in y (i.e y+delta) are considered, where delta is the minimal distance found in either left or right half. The conclusion can be found from stanford 'Divide & Conquer algorithm' course "
   ]
  },
  {
   "cell_type": "code",
   "execution_count": 16,
   "metadata": {},
   "outputs": [
    {
     "data": {
      "text/plain": [
       "[(1, 3), (1, 4), (10, 17), (10.5, 17), (18, 24)]"
      ]
     },
     "execution_count": 16,
     "metadata": {},
     "output_type": "execute_result"
    }
   ],
   "source": [
    "#first we sort x coordinates\n",
    "points = [(1,3), (10,17), (1,4), (18,24), (10.5,17)]\n",
    "points.sort()\n",
    "points\n"
   ]
  },
  {
   "cell_type": "code",
   "execution_count": 20,
   "metadata": {},
   "outputs": [
    {
     "data": {
      "text/plain": [
       "(((10, 17), (10.5, 17)), 0.5)"
      ]
     },
     "execution_count": 20,
     "metadata": {},
     "output_type": "execute_result"
    }
   ],
   "source": [
    "#Define a function to compute the distance\n",
    "import math\n",
    "def distance(p1, p2):\n",
    "    euclidean_length = math.sqrt((p1[0]-p2[0])**2+(p1[1]-p2[1])**2)\n",
    "    return euclidean_length\n",
    "\n",
    "#Define the recursive search \n",
    "def closest_pair(points):\n",
    "    if len(points) <= 1:\n",
    "        return points, math.inf\n",
    "    #split the array to left and right half\n",
    "    split_idx = len(points) // 2\n",
    "    left_tree = points[:split_idx]\n",
    "    right_tree = points[split_idx:]\n",
    "\n",
    "    #recursive split into minimal segments\n",
    "    left_pair, left_distance = closest_pair(left_tree)\n",
    "    right_pair, right_distance = closest_pair(right_tree)\n",
    "\n",
    "    #compare the distance at left and right half separately\n",
    "    if left_distance < right_distance:\n",
    "        min_distance = left_distance\n",
    "        min_pair = left_pair\n",
    "    else:\n",
    "        min_distance = right_distance\n",
    "        min_pair = right_pair\n",
    "    \n",
    "    #check the crossing between the left and right halfs\n",
    "    cross_pair = []\n",
    "    mid_index = points[split_idx][0] #the x value of the middle point\n",
    "    #collect all point within the min_distance range relative to middle points \n",
    "    # ['one delta range'], for x, we need \\pm delta, but for y, we only need +delta\n",
    "    for point in points:\n",
    "        if abs(point[0] - mid_index) < min_distance:\n",
    "            cross_pair.append(point)\n",
    "    \n",
    "    #sort the array by y values\n",
    "    cross_pair.sort(key=lambda x: x[1])\n",
    "\n",
    "    for i in range(len(cross_pair)):\n",
    "        for j in range(i+1, len(cross_pair)):\n",
    "            #only consider the blocks within the range we mentioned above\n",
    "            if cross_pair[j][1] - cross_pair[i][1] >= min_distance:\n",
    "                break\n",
    "            cross_distance = distance(cross_pair[i], cross_pair[j])\n",
    "            if cross_distance < min_distance:\n",
    "                min_distance = cross_distance\n",
    "                min_pair = (cross_pair[i], cross_pair[j])\n",
    "    \n",
    "    return min_pair, min_distance\n",
    "\n",
    "points = [(1,3), (10,17), (1,4), (18,24), (10.5,17)]\n",
    "closest_pair(points)\n",
    "\n"
   ]
  },
  {
   "cell_type": "markdown",
   "metadata": {},
   "source": [
    "Comment: the operation logic is quite similar to what I wrote for merge-sort inversion count section. Here when the single element reaches at left and right sides, the min_distance is infinite, and the crossing index is exactly at the left element. The double loops now will compute the distance between these two points and return to the layer above. One may ask what will happen in the single element stage where we compare double math.inf, and actually, it does not matter if left or right side is selected for min_pair, etc. It will autoly resolved when reaching the two elements layer (one layer above the bottom one)."
   ]
  }
 ],
 "metadata": {
  "kernelspec": {
   "display_name": "dl_mac",
   "language": "python",
   "name": "python3"
  },
  "language_info": {
   "codemirror_mode": {
    "name": "ipython",
    "version": 3
   },
   "file_extension": ".py",
   "mimetype": "text/x-python",
   "name": "python",
   "nbconvert_exporter": "python",
   "pygments_lexer": "ipython3",
   "version": "3.10.12"
  },
  "orig_nbformat": 4
 },
 "nbformat": 4,
 "nbformat_minor": 2
}
