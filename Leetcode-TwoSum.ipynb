{
 "cells": [
  {
   "cell_type": "markdown",
   "metadata": {},
   "source": [
    "# For Two sum problem: \n",
    "Given an array of integers nums and an integer target, return indices of the two numbers such that they add up to target.\n",
    "\n",
    "You may assume that each input would have exactly one solution, and you may not use the same element twice.\n",
    "\n",
    "You can return the answer in any order.\n",
    "\n",
    "Example:\n",
    "\n",
    "Input: nums = [2,7,11,15], target = 9\n",
    "Output: [0,1]\n",
    "Explanation: Because nums[0] + nums[1] == 9, we return [0, 1]."
   ]
  },
  {
   "cell_type": "code",
   "execution_count": null,
   "metadata": {},
   "outputs": [],
   "source": [
    "#force-beat method\n",
    "def TwoSum(arr, target):\n",
    "  result = []\n",
    "  for i in range(len(arr)-1):\n",
    "    for j in range(i+1, len(arr)):\n",
    "      if arr[i]+arr[j] == target:\n",
    "        result.append((i, j))\n",
    "  return result\n",
    "\n",
    "target = 9\n",
    "arr = [2,6,7,1,3]\n",
    "print(TwoSum(arr,target))"
   ]
  },
  {
   "cell_type": "code",
   "execution_count": 35,
   "metadata": {},
   "outputs": [
    {
     "name": "stdout",
     "output_type": "stream",
     "text": [
      "{0: 0}\n",
      "{0: 0, 2: 1}\n",
      "{0: 0, 2: 1, 1: 2}\n",
      "(1, 3)\n"
     ]
    }
   ],
   "source": [
    "# Two sum Problem solved by HashTable [key-value pairs], like the dict structure\n",
    "def two_sum(arr,target):\n",
    "  hash_table={}\n",
    "\n",
    "  for i, num in enumerate(arr):\n",
    "    pair = target - num\n",
    "\n",
    "    if pair in hash_table:\n",
    "      return (hash_table[pair], i)\n",
    "\n",
    "    hash_table[num] = i\n",
    "    print(hash_table)\n",
    "\n",
    "  return 'no paired nums'\n",
    "\n",
    "arr = [0,2,1,7,3]\n",
    "target = 9\n",
    "print(two_sum(arr,target))"
   ]
  },
  {
   "cell_type": "markdown",
   "metadata": {},
   "source": []
  }
 ],
 "metadata": {
  "kernelspec": {
   "display_name": "dl_mac",
   "language": "python",
   "name": "python3"
  },
  "language_info": {
   "codemirror_mode": {
    "name": "ipython",
    "version": 3
   },
   "file_extension": ".py",
   "mimetype": "text/x-python",
   "name": "python",
   "nbconvert_exporter": "python",
   "pygments_lexer": "ipython3",
   "version": "3.10.12"
  },
  "orig_nbformat": 4
 },
 "nbformat": 4,
 "nbformat_minor": 2
}
